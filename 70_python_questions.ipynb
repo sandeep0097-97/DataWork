{
 "cells": [
  {
   "cell_type": "markdown",
   "id": "8d317551",
   "metadata": {},
   "source": [
    "# Python Practice Questions - File Names"
   ]
  },
  {
   "cell_type": "code",
   "execution_count": null,
   "id": "185d609e",
   "metadata": {},
   "outputs": [],
   "source": [
    "# 01 - largest of 3 nums.py"
   ]
  },
  {
   "cell_type": "code",
   "execution_count": null,
   "id": "3ca634de",
   "metadata": {},
   "outputs": [],
   "source": [
    "# 02 - c to f temp.py"
   ]
  },
  {
   "cell_type": "code",
   "execution_count": null,
   "id": "f7f8ec78",
   "metadata": {},
   "outputs": [],
   "source": [
    "# 03 - swap vars w third.py"
   ]
  },
  {
   "cell_type": "code",
   "execution_count": null,
   "id": "405a0dd1",
   "metadata": {},
   "outputs": [],
   "source": [
    "# 04 - sum of digits.py"
   ]
  },
  {
   "cell_type": "code",
   "execution_count": null,
   "id": "8e621449",
   "metadata": {},
   "outputs": [],
   "source": [
    "# 05 - reverse digits.py"
   ]
  },
  {
   "cell_type": "code",
   "execution_count": null,
   "id": "52f57e5e",
   "metadata": {},
   "outputs": [],
   "source": [
    "# 06 - even or odd.py"
   ]
  },
  {
   "cell_type": "code",
   "execution_count": null,
   "id": "6c4183b7",
   "metadata": {},
   "outputs": [],
   "source": [
    "# 07 - leap year.py"
   ]
  },
  {
   "cell_type": "code",
   "execution_count": null,
   "id": "9f6ab657",
   "metadata": {},
   "outputs": [],
   "source": [
    "# 08 - euclidean dist.py"
   ]
  },
  {
   "cell_type": "code",
   "execution_count": null,
   "id": "546ed131",
   "metadata": {},
   "outputs": [],
   "source": [
    "# 09 - 3 angles triangle.py"
   ]
  },
  {
   "cell_type": "code",
   "execution_count": null,
   "id": "1832019a",
   "metadata": {},
   "outputs": [],
   "source": [
    "# 10 - profit loss calc.py"
   ]
  },
  {
   "cell_type": "code",
   "execution_count": null,
   "id": "3191dd9c",
   "metadata": {},
   "outputs": [],
   "source": [
    "# 11 - simple interest.py"
   ]
  },
  {
   "cell_type": "code",
   "execution_count": null,
   "id": "23a69f24",
   "metadata": {},
   "outputs": [],
   "source": [
    "# 12 - vol of cylinder.py"
   ]
  },
  {
   "cell_type": "code",
   "execution_count": null,
   "id": "2163ac97",
   "metadata": {},
   "outputs": [],
   "source": [
    "# 13 - div by 3 & 6.py"
   ]
  },
  {
   "cell_type": "code",
   "execution_count": null,
   "id": "228faf75",
   "metadata": {},
   "outputs": [],
   "source": [
    "# 14 - weather type.py"
   ]
  },
  {
   "cell_type": "code",
   "execution_count": null,
   "id": "88fa7b94",
   "metadata": {},
   "outputs": [],
   "source": [
    "# 15 - sum of squares.py"
   ]
  },
  {
   "cell_type": "code",
   "execution_count": null,
   "id": "f5b63165",
   "metadata": {},
   "outputs": [],
   "source": [
    "# 16 - armstrong num.py"
   ]
  },
  {
   "cell_type": "code",
   "execution_count": null,
   "id": "7b95d8ec",
   "metadata": {},
   "outputs": [],
   "source": [
    "# 17 - narcissistic num.py"
   ]
  },
  {
   "cell_type": "code",
   "execution_count": null,
   "id": "7b20e01a",
   "metadata": {},
   "outputs": [],
   "source": [
    "# 18 - inhand salary.py"
   ]
  },
  {
   "cell_type": "code",
   "execution_count": null,
   "id": "c7b98e3a",
   "metadata": {},
   "outputs": [],
   "source": [
    "# 19 - menu driven.py"
   ]
  },
  {
   "cell_type": "code",
   "execution_count": null,
   "id": "67da1994",
   "metadata": {},
   "outputs": [],
   "source": [
    "# 20 - swap two nums.py"
   ]
  },
  {
   "cell_type": "code",
   "execution_count": null,
   "id": "0fbb4fc7",
   "metadata": {},
   "outputs": [],
   "source": [
    "# 21 - sum first n nums.py"
   ]
  },
  {
   "cell_type": "code",
   "execution_count": null,
   "id": "7eeecf02",
   "metadata": {},
   "outputs": [],
   "source": [
    "# 22 - multiply without op.py"
   ]
  },
  {
   "cell_type": "code",
   "execution_count": null,
   "id": "bc5ebfa9",
   "metadata": {},
   "outputs": [],
   "source": [
    "# 23 - factorial.py"
   ]
  },
  {
   "cell_type": "code",
   "execution_count": null,
   "id": "ede9a720",
   "metadata": {},
   "outputs": [],
   "source": [
    "# 24 - first 25 odd nums.py"
   ]
  },
  {
   "cell_type": "code",
   "execution_count": null,
   "id": "e953d43f",
   "metadata": {},
   "outputs": [],
   "source": [
    "# 25 - prime number.py"
   ]
  },
  {
   "cell_type": "code",
   "execution_count": null,
   "id": "27bf1d73",
   "metadata": {},
   "outputs": [],
   "source": [
    "# 26 - armstrong 100-1000.py"
   ]
  },
  {
   "cell_type": "code",
   "execution_count": null,
   "id": "95f98f76",
   "metadata": {},
   "outputs": [],
   "source": [
    "# 27 - population calc.py"
   ]
  },
  {
   "cell_type": "code",
   "execution_count": null,
   "id": "fbffbb60",
   "metadata": {},
   "outputs": [],
   "source": [
    "# 28 - digit combos.py"
   ]
  },
  {
   "cell_type": "code",
   "execution_count": null,
   "id": "70166e5d",
   "metadata": {},
   "outputs": [],
   "source": [
    "# 29 - find hcf.py"
   ]
  },
  {
   "cell_type": "code",
   "execution_count": null,
   "id": "de3ade26",
   "metadata": {},
   "outputs": [],
   "source": [
    "# 30 - calc lcm.py"
   ]
  },
  {
   "cell_type": "code",
   "execution_count": null,
   "id": "b4fd5aab",
   "metadata": {},
   "outputs": [],
   "source": [
    "# 31 - first 25 primes.py"
   ]
  },
  {
   "cell_type": "code",
   "execution_count": null,
   "id": "5e42a711",
   "metadata": {},
   "outputs": [],
   "source": [
    "# 32 - first 20 fibs.py"
   ]
  },
  {
   "cell_type": "code",
   "execution_count": null,
   "id": "daf0b83d",
   "metadata": {},
   "outputs": [],
   "source": [
    "# 33 - compound interest.py"
   ]
  },
  {
   "cell_type": "code",
   "execution_count": null,
   "id": "de0a3aff",
   "metadata": {},
   "outputs": [],
   "source": [
    "# 34 - sum n+nn+nnn.py"
   ]
  },
  {
   "cell_type": "code",
   "execution_count": null,
   "id": "24acab65",
   "metadata": {},
   "outputs": [],
   "source": [
    "# 35 - count digits.py"
   ]
  },
  {
   "cell_type": "code",
   "execution_count": null,
   "id": "8ed84e2c",
   "metadata": {},
   "outputs": [],
   "source": [
    "# 36 - find factors.py"
   ]
  },
  {
   "cell_type": "code",
   "execution_count": null,
   "id": "b5683f50",
   "metadata": {},
   "outputs": [],
   "source": [
    "# 37 - reverse num.py"
   ]
  },
  {
   "cell_type": "code",
   "execution_count": null,
   "id": "85351ce8",
   "metadata": {},
   "outputs": [],
   "source": [
    "# 38 - pyramid nested.py"
   ]
  },
  {
   "cell_type": "code",
   "execution_count": null,
   "id": "0ef6fcb9",
   "metadata": {},
   "outputs": [],
   "source": [
    "# 39 - patterns nested.py"
   ]
  },
  {
   "cell_type": "code",
   "execution_count": null,
   "id": "e8e02e5f",
   "metadata": {},
   "outputs": [],
   "source": [
    "# 40 - sum series.py"
   ]
  },
  {
   "cell_type": "code",
   "execution_count": null,
   "id": "63107276",
   "metadata": {},
   "outputs": [],
   "source": [
    "# 41 - series sum.py"
   ]
  },
  {
   "cell_type": "code",
   "execution_count": null,
   "id": "ee2fa128",
   "metadata": {},
   "outputs": [],
   "source": [
    "# 42 - sum & avg.py"
   ]
  },
  {
   "cell_type": "code",
   "execution_count": null,
   "id": "fd5dd00c",
   "metadata": {},
   "outputs": [],
   "source": [
    "# 43 - simplify fraction.py"
   ]
  },
  {
   "cell_type": "code",
   "execution_count": null,
   "id": "10d0383a",
   "metadata": {},
   "outputs": [],
   "source": [
    "# 44 - string len without len().py"
   ]
  },
  {
   "cell_type": "code",
   "execution_count": null,
   "id": "d8088d97",
   "metadata": {},
   "outputs": [],
   "source": [
    "# 45 - username from email.py"
   ]
  },
  {
   "cell_type": "code",
   "execution_count": null,
   "id": "5ffc7d39",
   "metadata": {},
   "outputs": [],
   "source": [
    "# 46 - char occurrences.py"
   ]
  },
  {
   "cell_type": "code",
   "execution_count": null,
   "id": "14944e8b",
   "metadata": {},
   "outputs": [],
   "source": [
    "# 47 - char index in string.py"
   ]
  },
  {
   "cell_type": "code",
   "execution_count": null,
   "id": "38b36a6b",
   "metadata": {},
   "outputs": [],
   "source": [
    "# 48 - count vowels.py"
   ]
  },
  {
   "cell_type": "code",
   "execution_count": null,
   "id": "b50f297e",
   "metadata": {},
   "outputs": [],
   "source": [
    "# 49 - remove char.py"
   ]
  },
  {
   "cell_type": "code",
   "execution_count": null,
   "id": "1c943586",
   "metadata": {},
   "outputs": [],
   "source": [
    "# 50 - palindrome string.py"
   ]
  },
  {
   "cell_type": "code",
   "execution_count": null,
   "id": "4db61455",
   "metadata": {},
   "outputs": [],
   "source": [
    "# 51 - remove dupes list.py"
   ]
  },
  {
   "cell_type": "code",
   "execution_count": null,
   "id": "065502e1",
   "metadata": {},
   "outputs": [],
   "source": [
    "# 52 - title case without title().py"
   ]
  },
  {
   "cell_type": "code",
   "execution_count": null,
   "id": "521bdc5f",
   "metadata": {},
   "outputs": [],
   "source": [
    "# 53 - max value list without max().py"
   ]
  },
  {
   "cell_type": "code",
   "execution_count": null,
   "id": "40aaf478",
   "metadata": {},
   "outputs": [],
   "source": [
    "# 54 - reverse list.py"
   ]
  },
  {
   "cell_type": "code",
   "execution_count": null,
   "id": "066853ad",
   "metadata": {},
   "outputs": [],
   "source": [
    "# 55 - search num list.py"
   ]
  },
  {
   "cell_type": "code",
   "execution_count": null,
   "id": "5bfa3189",
   "metadata": {},
   "outputs": [],
   "source": [
    "# 56 - square list items.py"
   ]
  },
  {
   "cell_type": "code",
   "execution_count": null,
   "id": "9eb01638",
   "metadata": {},
   "outputs": [],
   "source": [
    "# 57 - reverse words.py"
   ]
  },
  {
   "cell_type": "code",
   "execution_count": null,
   "id": "5ec7c113",
   "metadata": {},
   "outputs": [],
   "source": [
    "# 58 - word count string.py"
   ]
  },
  {
   "cell_type": "code",
   "execution_count": null,
   "id": "2a26f160",
   "metadata": {},
   "outputs": [],
   "source": [
    "# 59 - list sorted without sort().py"
   ]
  },
  {
   "cell_type": "code",
   "execution_count": null,
   "id": "77826b92",
   "metadata": {},
   "outputs": [],
   "source": [
    "# 60 - sep even-odd list.py"
   ]
  },
  {
   "cell_type": "code",
   "execution_count": null,
   "id": "8a377dd0",
   "metadata": {},
   "outputs": [],
   "source": [
    "# 61 - combine lists without '+'.py"
   ]
  },
  {
   "cell_type": "code",
   "execution_count": null,
   "id": "e805b8a7",
   "metadata": {},
   "outputs": [],
   "source": [
    "# 62 - replace item.py"
   ]
  },
  {
   "cell_type": "code",
   "execution_count": null,
   "id": "b7369eb1",
   "metadata": {},
   "outputs": [],
   "source": [
    "# 63 - flatten 2d list.py"
   ]
  },
  {
   "cell_type": "code",
   "execution_count": null,
   "id": "2bd2fd69",
   "metadata": {},
   "outputs": [],
   "source": [
    "# 64 - union & intersection lists.py"
   ]
  },
  {
   "cell_type": "code",
   "execution_count": null,
   "id": "d39ead74",
   "metadata": {},
   "outputs": [],
   "source": [
    "# 65 - max item matrix row.py"
   ]
  },
  {
   "cell_type": "code",
   "execution_count": null,
   "id": "92006d58",
   "metadata": {},
   "outputs": [],
   "source": [
    "# 66 - matrix shape.py"
   ]
  },
  {
   "cell_type": "code",
   "execution_count": null,
   "id": "93eedd7c",
   "metadata": {},
   "outputs": [],
   "source": [
    "# 67 - matrix mult possib.py"
   ]
  },
  {
   "cell_type": "code",
   "execution_count": null,
   "id": "9acde060",
   "metadata": {},
   "outputs": [],
   "source": [
    "# 68 - sort list without sort().py"
   ]
  },
  {
   "cell_type": "code",
   "execution_count": null,
   "id": "904a44cf",
   "metadata": {},
   "outputs": [],
   "source": [
    "# 69 - factorial without loop.py"
   ]
  },
  {
   "cell_type": "code",
   "execution_count": null,
   "id": "0d831b7b",
   "metadata": {},
   "outputs": [],
   "source": [
    "# 70 - bag of words.py"
   ]
  }
 ],
 "metadata": {},
 "nbformat": 4,
 "nbformat_minor": 5
}
